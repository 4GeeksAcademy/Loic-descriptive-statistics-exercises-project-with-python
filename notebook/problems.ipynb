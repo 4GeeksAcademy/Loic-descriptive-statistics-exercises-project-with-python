{
    "cells": [
        {
            "cell_type": "markdown",
            "id": "ac622319",
            "metadata": {},
            "source": [
                "# Descriptive statistics problems"
            ]
        },
        {
            "cell_type": "markdown",
            "id": "5e0ab0d5",
            "metadata": {},
            "source": [
                "### Exercise 1\n",
                "\n",
                "We will use NumPy to obtain information to describe statistically.\n",
                "\n",
                "- Generate an array of 100 elements following a normal distribution.\n",
                "- Generate an array of 100 elements following a chi-square distribution with 3 degrees of freedom.\n",
                "- Calculate the main metrics and statistical measures that best describe the two vectors."
            ]
        },
        {
            "cell_type": "code",
            "execution_count": 29,
            "id": "34720ab6",
            "metadata": {},
            "outputs": [
                {
                    "name": "stdout",
                    "output_type": "stream",
                    "text": [
                        "count    100.000000\n",
                        "mean       0.018055\n",
                        "std        0.986035\n",
                        "min       -2.291873\n",
                        "50%        0.083979\n",
                        "max        2.264016\n",
                        "dtype: float64\n",
                        "moda: 0.9906073501587886\n",
                        "rango: 4.555889005632386\n",
                        "varianza: 0.972265766036942\n",
                        "\n",
                        "count    100.000000\n",
                        "mean       2.799231\n",
                        "std        2.247405\n",
                        "min        0.139773\n",
                        "50%        2.165054\n",
                        "max       11.808595\n",
                        "dtype: float64\n",
                        "moda: 0.6978254607017932\n",
                        "rango: 11.668821445210689\n",
                        "varianza: 5.050827035922829\n"
                    ]
                }
            ],
            "source": [
                "import numpy as np\n",
                "import pandas as pd\n",
                "import statistics as stats\n",
                "\n",
                "arr_nd = np.random.normal(0, 1, 100)\n",
                "arr_chisquare = np.random.chisquare(3, 100)\n",
                "arr_nd1 = pd.Series(arr_nd)\n",
                "arr_chisquare1 = pd.Series(arr_chisquare)\n",
                "valores_arr_nd = arr_nd1.describe(percentiles=[])\n",
                "valores_arr_chisquare = arr_chisquare1.describe(percentiles=[])\n",
                "moda_arr_nd = stats.mode(arr_nd)\n",
                "rango_arr_nd = max(arr_nd) - min(arr_nd)\n",
                "var_arr_nd = stats.variance(arr_nd)\n",
                "moda_arr_chisquare = stats.mode(arr_chisquare)\n",
                "rango_arr_chisquare = max(arr_chisquare) - min(arr_chisquare)\n",
                "var_arr_chisquare = stats.variance(arr_chisquare)\n",
                "\n",
                "print(f\"{valores_arr_nd}\\nmoda: {moda_arr_nd}\\nrango: {rango_arr_nd}\\nvarianza: {var_arr_nd}\\n\")\n",
                "print(f\"{valores_arr_chisquare}\\nmoda: {moda_arr_chisquare}\\nrango: {rango_arr_chisquare}\\nvarianza: {var_arr_chisquare}\")"
            ]
        },
        {
            "cell_type": "code",
            "execution_count": 30,
            "id": "c5f1aa4f",
            "metadata": {},
            "outputs": [
                {
                    "name": "stdout",
                    "output_type": "stream",
                    "text": [
                        "datos arr_nd:\n",
                        "        min       max     media   mediana     rango      moda  varianza  \\\n",
                        "0 -2.756983  2.292105 -0.224128 -0.296504  5.049088  0.190443  0.940587   \n",
                        "\n",
                        "   desviacion estandar  \n",
                        "0             0.964977  \n",
                        "\n",
                        "datos arr_chisquare:\n",
                        "        min        max     media   mediana     rango      moda  varianza  \\\n",
                        "0  0.102898  11.559478  2.924549  2.073115  11.45658  2.044754   5.75659   \n",
                        "\n",
                        "   desviacion estandar  \n",
                        "0             2.387263  \n"
                    ]
                }
            ],
            "source": [
                "import numpy as np\n",
                "import pandas as pd\n",
                "import statistics as stats\n",
                "\n",
                "arr_nd = np.random.normal(0, 1, 100)\n",
                "arr_chisquare = np.random.chisquare(3, 100)\n",
                "\n",
                "dic_arr_chisquare = {\n",
                "    \"min\":min(arr_chisquare),\n",
                "    \"max\":max(arr_chisquare),\n",
                "    \"media\":arr_chisquare.mean(),\n",
                "    \"mediana\":stats.median(arr_chisquare),\n",
                "    \"rango\":max(arr_chisquare)-min(arr_chisquare),\n",
                "    \"moda\":stats.mode(arr_chisquare),\n",
                "    \"varianza\":stats.variance(arr_chisquare),\n",
                "    \"desviacion estandar\":arr_chisquare.std()\n",
                "    }\n",
                "datos_arr_arr_chisquare = pd.DataFrame(dic_arr_chisquare, index=[0])\n",
                "\n",
                "dic_arr_nd = {\n",
                "    \"min\":min(arr_nd),\n",
                "    \"max\":max(arr_nd),\n",
                "    \"media\":arr_nd.mean(),\n",
                "    \"mediana\":stats.median(arr_nd),\n",
                "    \"rango\":max(arr_nd)-min(arr_nd),\n",
                "    \"moda\":stats.mode(arr_nd),\n",
                "    \"varianza\":stats.variance(arr_nd),\n",
                "    \"desviacion estandar\":arr_nd.std()\n",
                "    }\n",
                "datos_arr_nd = pd.DataFrame(dic_arr_nd, index=[0])\n",
                "\n",
                "print(f\"datos arr_nd:\\n{datos_arr_nd}\\n\")\n",
                "print(f\"datos arr_chisquare:\\n{datos_arr_arr_chisquare}\")"
            ]
        },
        {
            "cell_type": "markdown",
            "id": "46c70c3d",
            "metadata": {},
            "source": [
                "### Exercise 2\n",
                "\n",
                "Write a Python program to calculate the standard deviation of the following data:\n",
                "\n",
                "```py\n",
                "data = [4, 2, 5, 8, 6]\n",
                "```"
            ]
        },
        {
            "cell_type": "code",
            "execution_count": 31,
            "id": "d590308e",
            "metadata": {},
            "outputs": [
                {
                    "name": "stdout",
                    "output_type": "stream",
                    "text": [
                        "2.0\n"
                    ]
                }
            ],
            "source": [
                "import numpy as np\n",
                "from math import sqrt\n",
                "\n",
                "data = np.array([4,2,5,8,6])\n",
                "\n",
                "media = data.mean()\n",
                "n_muestral = len(data)\n",
                "\n",
                "suma_total = sum((i - media)**2 for i in data)\n",
                "\n",
                "desviacion_estandar = sqrt(suma_total/n_muestral)\n",
                "\n",
                "print(desviacion_estandar)\n"
            ]
        }
    ],
    "metadata": {
        "kernelspec": {
            "display_name": "Python 3",
            "language": "python",
            "name": "python3"
        },
        "language_info": {
            "codemirror_mode": {
                "name": "ipython",
                "version": 3
            },
            "file_extension": ".py",
            "mimetype": "text/x-python",
            "name": "python",
            "nbconvert_exporter": "python",
            "pygments_lexer": "ipython3",
            "version": "3.11.4"
        }
    },
    "nbformat": 4,
    "nbformat_minor": 5
}
